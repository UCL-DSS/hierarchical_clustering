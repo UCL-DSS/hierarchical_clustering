{
 "cells": [
  {
   "cell_type": "markdown",
   "id": "f467b493",
   "metadata": {},
   "source": [
    "# Data Science Society Hierarchical clustering (solutions)\n",
    "\n",
    "## Debugging problems"
   ]
  },
  {
   "cell_type": "markdown",
   "id": "b331123f",
   "metadata": {},
   "source": [
    "### 1) Using the data that we have provided, implement the clusters using a distance of 6\n",
    "\n",
    "Using the crime dataset that we exported from the previous notebook, implement the clustering algorithm but using distances of 6 and see how this has changed the result both in terms of different clusters and also spatially. Think about why do you get the outcome that you do based on the dendrogram shown:"
   ]
  },
  {
   "cell_type": "code",
   "execution_count": null,
   "id": "662d951b",
   "metadata": {},
   "outputs": [],
   "source": [
    "#import all necessary libraries\n",
    "import pandas as pd\n",
    "import geopandas as gpd\n",
    "import os\n",
    "import numpy as np\n",
    "import matplotlib.pyplot as plt\n",
    "import contextily as cx\n",
    "from sklearn.cluster import AgglomerativeClustering"
   ]
  },
  {
   "cell_type": "code",
   "execution_count": null,
   "id": "47fda2f1",
   "metadata": {},
   "outputs": [],
   "source": [
    "#read in the crime data that we extracted before\n",
    "London_crime = gpd.read_file(\"Data/crime_2019.gpkg\")"
   ]
  },
  {
   "cell_type": "code",
   "execution_count": null,
   "id": "c5efa830",
   "metadata": {},
   "outputs": [],
   "source": [
    "#extract the columns that we don't want to plot\n",
    "not_plot = [\"LSOA11CD\", \"geometry\", \"LSOA Code\", \"Total_crime\", \"Aggl_clus\"]\n",
    "#use this to extract the columns that we do want to plot\n",
    "to_plot = [col for col in London_crime.columns if col not in not_plot]\n",
    "#extract the values that we want to plot\n",
    "crime_clus = London_crime[to_plot]"
   ]
  },
  {
   "cell_type": "code",
   "execution_count": null,
   "id": "93d811c6",
   "metadata": {},
   "outputs": [],
   "source": [
    "#create the model that we want, setting the linkage to ward, the distance threshold to 6 and \n",
    "#set the number of clusters to none so that we can plot the dendrogram afterwards\n",
    "model6 = AgglomerativeClustering(linkage=??, \n",
    "                                 distance_threshold = ??, \n",
    "                                 n_clusters=??)\n",
    "#fit the model to the data\n",
    "model6.fit(crime_clus)"
   ]
  },
  {
   "cell_type": "code",
   "execution_count": null,
   "id": "8160b28b",
   "metadata": {},
   "outputs": [],
   "source": [
    "#assign the labels back to the dataset\n",
    "London_crime[\"Aggl_clus_6\"] = model6.??"
   ]
  },
  {
   "cell_type": "code",
   "execution_count": null,
   "id": "8b0c82df",
   "metadata": {},
   "outputs": [],
   "source": [
    "#set the base axis\n",
    "fig, ax = plt.subplots(figsize = (10,10))\n",
    "\n",
    "#plot the results\n",
    "London_crime.plot(column = ??, \n",
    "                  categorical = True, \n",
    "                  legend=True, \n",
    "                  ax=ax,\n",
    "                  alpha = 0.7,\n",
    "                 cmap = \"tab10\")\n",
    "\n",
    "#add a basemap\n",
    "cx.add_basemap(ax = ax,\n",
    "               crs = \"EPSG:27700\")\n",
    "\n",
    "#set the axis off\n",
    "ax.set_axis_off()"
   ]
  },
  {
   "cell_type": "code",
   "execution_count": null,
   "id": "6884100d",
   "metadata": {},
   "outputs": [],
   "source": [
    "#extract the table showing the summary results\n",
    "agglom_means =London_crime.groupby(??)[to_plot].mean()\n",
    "agglom_means_T = agglom_means.T.round(3)\n",
    "\n",
    "#turn this into a dataframe\n",
    "agglom_means_T = pd.DataFrame(agglom_means_T)\n",
    "#show the results\n",
    "agglom_means_T"
   ]
  },
  {
   "cell_type": "code",
   "execution_count": null,
   "id": "b24a5274",
   "metadata": {},
   "outputs": [],
   "source": [
    "#reset the index\n",
    "agglom_means_T.reset_index(inplace=True)\n",
    "\n",
    "#get the colours\n",
    "colors = [\"#1f77b4\", \"#2ca02c\", \"#8c564b\", \"#7f7f7f\", \"#17becf\"]\n",
    "\n",
    "#create subplots for each cluster\n",
    "fig, ax = plt.subplots(1,5, figsize = (15,8), sharey = True, sharex = True)\n",
    "#flatten the axis\n",
    "axis = ax.flatten()\n",
    "\n",
    "#going over each column\n",
    "for i, col  in enumerate(agglom_means_T.columns):\n",
    "    #ignore the index column\n",
    "    if col != \"index\":\n",
    "        ax = axis[i-1]\n",
    "        #plot the bar chart\n",
    "        ax.bar(height = agglom_means_T[col], x=agglom_means_T[\"index\"], color = colors[i-1] )\n",
    "        #rotate the x-ticks\n",
    "        ax.set_xticklabels(labels =agglom_means_T[\"index\"], rotation = 90)\n",
    "        #set the title\n",
    "        ax.set_title(f\"Cluster {col}\", fontsize = 20)"
   ]
  },
  {
   "cell_type": "markdown",
   "id": "d8689ac3",
   "metadata": {},
   "source": [
    "- How is this different from the previous results?\n",
    "- Does the extra cluster add anything to our analysis?\n",
    "- What about if you increased distance?"
   ]
  },
  {
   "cell_type": "markdown",
   "id": "2f7667d5",
   "metadata": {},
   "source": [
    "### 2) Using the same dataset, try to implement the results with average linkage\n",
    "\n",
    "We have already implemented the model with wards linkage. Why not try changing the linkage metric (more information [here](https://towardsdatascience.com/introduction-to-hierarchical-clustering-part-1-theory-linkage-and-affinity-e3b6a4817702)) to see how this changes the results:"
   ]
  },
  {
   "cell_type": "code",
   "execution_count": null,
   "id": "ec78b51e",
   "metadata": {},
   "outputs": [],
   "source": [
    "#implement the model\n",
    "model_avg = AgglomerativeClustering(linkage=??, \n",
    "                                    distance_threshold = 0.63, \n",
    "                                    n_clusters=??)\n",
    "#fit the model to the data\n",
    "model_avg.fit(??)"
   ]
  },
  {
   "cell_type": "code",
   "execution_count": null,
   "id": "d5cf218a",
   "metadata": {},
   "outputs": [],
   "source": [
    "#assign the labels back to the dataset\n",
    "London_crime[\"Aggl_clus_avg\"] = model_avg.??"
   ]
  },
  {
   "cell_type": "code",
   "execution_count": null,
   "id": "1fc5aa9e",
   "metadata": {},
   "outputs": [],
   "source": [
    "#create the base axis\n",
    "fig, ax = plt.subplots(figsize = (10,10))\n",
    "\n",
    "#plot the data to the axis\n",
    "London_crime.plot(column = ??, \n",
    "                  categorical = ??, \n",
    "                  legend=??, \n",
    "                  ax=??,\n",
    "                  alpha = ??,\n",
    "                 cmap = ??)\n",
    "\n",
    "#add the basemap\n",
    "cx.add_basemap(ax = ax,\n",
    "               crs = ??)\n",
    "\n",
    "#set the axis off\n",
    "ax.set_axis_off()"
   ]
  },
  {
   "cell_type": "code",
   "execution_count": null,
   "id": "c337874e",
   "metadata": {},
   "outputs": [],
   "source": [
    "#create the results table\n",
    "agglom_means =London_crime.groupby(??)[to_plot].mean()\n",
    "agglom_means_T = ??\n",
    "agglom_means_T = ??\n",
    "agglom_means_T"
   ]
  },
  {
   "cell_type": "code",
   "execution_count": null,
   "id": "7e29902d",
   "metadata": {},
   "outputs": [],
   "source": [
    "#plot the results\n",
    "agglom_means_T.reset_index(inplace=True)\n",
    "\n",
    "#get the colours\n",
    "colors = [\"#1f77b4\", \"#8c564b\", \"#17becf\"]\n",
    "\n",
    "#create subplots for each cluster\n",
    "fig, ax = plt.subplots(1,??, figsize = (15,8), sharey = True, sharex = True)\n",
    "#flatten the axis\n",
    "axis = ax.flatten()\n",
    "\n",
    "#going over each column\n",
    "for i, col  in enumerate(agglom_means_T.??):\n",
    "    #ignore the index column\n",
    "    if col != \"index\":\n",
    "        ax = axis[i-1]\n",
    "        #plot the bar chart\n",
    "        ax.bar(height = agglom_means_T[col], x=agglom_means_T[\"index\"], color = colors[i-1] )\n",
    "        #rotate the x-ticks\n",
    "        ax.set_xticklabels(labels =agglom_means_T[\"index\"], rotation = 90)\n",
    "        #set the title\n",
    "        ax.set_title(f\"Cluster {col}\", fontsize = 20)"
   ]
  },
  {
   "cell_type": "code",
   "execution_count": null,
   "id": "916b9027",
   "metadata": {},
   "outputs": [],
   "source": [
    "import numpy as np\n",
    "from scipy.cluster.hierarchy import dendrogram\n",
    "\n",
    "def plot_dendrogram(model, **kwargs):\n",
    "    \n",
    "    counts = np.zeros(model.children_.shape[0])\n",
    "    n_samples = len(model.labels_)\n",
    "    for i, merge in enumerate(model.children_):\n",
    "        current_count = 0\n",
    "        for child_idx in merge:\n",
    "            if child_idx < n_samples:\n",
    "                current_count +=1\n",
    "            else:\n",
    "                current_count += counts[child_idx-n_samples]\n",
    "        counts[i] = current_count\n",
    "        \n",
    "    linkage_matrix = np.column_stack([model.children_, model.distances_,\n",
    "                                     counts]).astype(float)\n",
    "    \n",
    "    dendrogram(linkage_matrix, **kwargs)\n",
    "\n",
    "fig, ax = plt.subplots(figsize = (10,10))\n",
    "ax.set_title(\"Hierarchical clustering dendrogram\")\n",
    "#plot the top three levels of the dendrogram\n",
    "plot_dendrogram(model_avg, truncate_mode='level', p=3)\n",
    "plt.axhline(y = 7, color = \"r\", linestyle = \"--\")\n",
    "ax.set_xlabel(\"Number of points in node\")\n",
    "plt.show()"
   ]
  },
  {
   "cell_type": "markdown",
   "id": "c1ae185a",
   "metadata": {},
   "source": [
    "- What has gone wrong here? \n",
    "- Why do you think this has gone wrong?\n",
    "- How would you change this?\n",
    "- What about other linkage metrics?"
   ]
  },
  {
   "cell_type": "markdown",
   "id": "f4f4c88f",
   "metadata": {},
   "source": [
    "### 3) Try implementing a spatially constrained model using wards linkage\n",
    "\n",
    "Following this [link](https://towardsdatascience.com/introduction-to-hierarchical-clustering-part-3-spatial-clustering-1f8cbd451173) Try implementing a spatially constrained model. The purpose of this is to control for geography in the model (you can also use different linkages in other scenarios to constrain the model as well in the future)."
   ]
  },
  {
   "cell_type": "code",
   "execution_count": null,
   "id": "837d2060",
   "metadata": {},
   "outputs": [],
   "source": [
    "#!pip install libpysal"
   ]
  },
  {
   "cell_type": "code",
   "execution_count": null,
   "id": "e6253aa3",
   "metadata": {},
   "outputs": [],
   "source": [
    "#import the necessary packages\n",
    "from libpysal import weights\n",
    "\n",
    "#calculate the weights matrix\n",
    "wr = weights.contiguity.Rook.from_dataframe(??)"
   ]
  },
  {
   "cell_type": "code",
   "execution_count": null,
   "id": "d9d49e89",
   "metadata": {},
   "outputs": [],
   "source": [
    "#create the model with wards linkage\n",
    "model = AgglomerativeClustering(linkage=??, \n",
    "                                #define the connectivity\n",
    "                                connectivity = wr.sparse,\n",
    "                                #set the distance threshold\n",
    "                                distance_threshold = 3.2, \n",
    "                                n_clusters=None)\n",
    "\n",
    "#fit the model\n",
    "model.fit(??)"
   ]
  },
  {
   "cell_type": "code",
   "execution_count": null,
   "id": "41675e7a",
   "metadata": {},
   "outputs": [],
   "source": [
    "#extract labels\n",
    "London_crime[\"Aggl_clus_spa\"] = model.??\n",
    "\n",
    "#creating axis\n",
    "fig, ax =plt.subplots(figsize = (10,10))\n",
    "\n",
    "#plt the results\n",
    "London_crime.plot(column = ??, \n",
    "                  categorical = True, \n",
    "                  legend=True, \n",
    "                  ax = ax,\n",
    "                 cmap = \"tab10\")\n",
    "\n",
    "#add the basemap\n",
    "cx.add_basemap(ax = ax,\n",
    "               crs = \"EPSG:27700\")\n",
    "\n",
    "#remove the axis\n",
    "ax.set_axis_off()"
   ]
  },
  {
   "cell_type": "code",
   "execution_count": null,
   "id": "f36348dd",
   "metadata": {},
   "outputs": [],
   "source": [
    "#extract the results\n",
    "agglom_means =London_crime.groupby(??)[to_plot].mean()\n",
    "#extract the transformed data\n",
    "agglom_means_T = pd.DataFrame(agglom_means.T.round(3))\n",
    "#reset the index\n",
    "agglom_means_T.reset_index(inplace=True)\n",
    "\n",
    "#extract the colours\n",
    "colors = [\"tab:blue\", \"tab:green\", \"tab:purple\", \"tab:pink\", \"tab:olive\", \"tab:cyan\"]\n",
    "\n",
    "#plot the results\n",
    "fig, ax = plt.subplots(2,3, figsize = (15,15), sharey = True, sharex = True)\n",
    "axis = ax.flatten()\n",
    "for i, col  in enumerate(agglom_means_T.columns):\n",
    "    if col != \"index\":\n",
    "        ax = axis[i-1]\n",
    "        ax.bar(height = agglom_means_T[col], x=agglom_means_T[\"index\"],\n",
    "               color = colors[i-1], )\n",
    "        ax.set_xticklabels(labels =agglom_means_T[\"index\"], rotation = 90)\n",
    "        ax.set_title(f\"Cluster {col}\", fontsize = 20)\n",
    "        ax.grid(axis = \"y\", zorder = 0, linestyle = \"--\")"
   ]
  },
  {
   "cell_type": "markdown",
   "id": "69ba840b",
   "metadata": {},
   "source": [
    "- How can these be interpreted?\n",
    "- What is the main difference?\n",
    "- Can you look at the dendrogram to see how it may be different?\n",
    "- What about other linkages, distance metrics or spatial weights?"
   ]
  },
  {
   "cell_type": "markdown",
   "id": "34dd7f1f",
   "metadata": {},
   "source": [
    "# Find your own dataset to perform this methodology on\n",
    "\n",
    "Think about:\n",
    "\n",
    "1. What makes this a good dataset for hierarchical clustering?\n",
    "2. What distance metric or affinity metric do you want to use?\n",
    "3. How do your clusters vary with difference distances?\n",
    "4. How can your results be interpreted?"
   ]
  }
 ],
 "metadata": {
  "kernelspec": {
   "display_name": "DSS",
   "language": "python",
   "name": "dss"
  },
  "language_info": {
   "codemirror_mode": {
    "name": "ipython",
    "version": 3
   },
   "file_extension": ".py",
   "mimetype": "text/x-python",
   "name": "python",
   "nbconvert_exporter": "python",
   "pygments_lexer": "ipython3",
   "version": "3.9.6"
  }
 },
 "nbformat": 4,
 "nbformat_minor": 5
}
